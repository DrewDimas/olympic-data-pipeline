{
 "cells": [
  {
   "cell_type": "code",
   "execution_count": 2,
   "id": "c02877c0-16d5-463c-84fd-d057d574b635",
   "metadata": {},
   "outputs": [],
   "source": [
    "from google.cloud import storage\n"
   ]
  },
  {
   "cell_type": "code",
   "execution_count": 9,
   "id": "beec9aa4-e8c6-4d05-851d-81052021ebd7",
   "metadata": {},
   "outputs": [
    {
     "name": "stdout",
     "output_type": "stream",
     "text": [
      "File ingestion/olympic_data_cleaned.parquet uploaded to data/olympic_data_cleaned.parquet.\n"
     ]
    }
   ],
   "source": [
    "# Initialize a storage client\n",
    "storage_client = storage.Client(project='datacamp2024-412820')\n",
    "\n",
    "# Define your bucket name and file path in GCS\n",
    "bucket_name = 'dimas-olympic-pipeline'\n",
    "destination = 'data/olympic_data_cleaned.parquet'\n",
    "source_file_name = 'ingestion/olympic_data_cleaned.parquet'\n",
    "\n",
    "# Get the bucket\n",
    "bucket = storage_client.bucket(bucket_name)\n",
    "\n",
    "# Create a blob and upload the file\n",
    "blob = bucket.blob(destination)\n",
    "blob.upload_from_filename(source_file_name)\n",
    "\n",
    "print(f\"File {source_file_name} uploaded to {destination}.\")"
   ]
  }
 ],
 "metadata": {
  "kernelspec": {
   "display_name": "Python 3 (ipykernel)",
   "language": "python",
   "name": "python3"
  },
  "language_info": {
   "codemirror_mode": {
    "name": "ipython",
    "version": 3
   },
   "file_extension": ".py",
   "mimetype": "text/x-python",
   "name": "python",
   "nbconvert_exporter": "python",
   "pygments_lexer": "ipython3",
   "version": "3.10.13"
  }
 },
 "nbformat": 4,
 "nbformat_minor": 5
}
